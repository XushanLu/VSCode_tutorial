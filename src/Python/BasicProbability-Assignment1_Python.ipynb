{
 "cells": [
  {
   "attachments": {},
   "cell_type": "markdown",
   "id": "d680051a",
   "metadata": {},
   "source": [
    "# Basic Probability\n",
    "\n",
    "> This notebook was created while sitting in the ML class taught by Alison and Colin. Some of the Python codes were written by me but I remember most of them were provided.\n",
    "\n",
    "For many of you this is probably review and straightforward, but it is useful to review these concepts and make sure that we understand how to implement them in python.  "
   ]
  },
  {
   "cell_type": "code",
   "execution_count": 1,
   "id": "7c570285",
   "metadata": {},
   "outputs": [],
   "source": [
    "#Setup the basic inputs that we need for this\n",
    "import numpy as np\n",
    "import matplotlib.pyplot as plt\n",
    "import random\n",
    "import math\n",
    "plt.rcParams['font.size'] = '16'"
   ]
  },
  {
   "cell_type": "markdown",
   "id": "f24a1887",
   "metadata": {},
   "source": [
    "This is a simple function to compute ${ n \\choose r}$ that we will use in later experiments.  Later versions of python have a built in ${n \\choose r}$ but I put this here in case we need it."
   ]
  },
  {
   "cell_type": "code",
   "execution_count": 2,
   "id": "5f54df0f",
   "metadata": {},
   "outputs": [],
   "source": [
    "def slownchooser(n,r):\n",
    "    return (math.factorial(n)/math.factorial(r)/math.factorial(n-r))"
   ]
  },
  {
   "cell_type": "markdown",
   "id": "a613fc9b",
   "metadata": {},
   "source": [
    "### We begin from the simple case of something with two possible outcomes.  \n",
    "\n",
    "For example: \n",
    "\n",
    "1. A coin toss\n",
    "2. Present or absent\n",
    "3. Wave arrival or no wave arrival\n",
    "\n",
    "This is pervasive in almost any part of science, you can find examples where there are two possible outcomes.  The most common is like the above, either the event occurred or it did not.  We will play with the most common, that you are likely to see in a probability textbook: The coin toss."
   ]
  },
  {
   "cell_type": "markdown",
   "id": "157d0ce5",
   "metadata": {},
   "source": [
    "### Implement a coin-toss function"
   ]
  },
  {
   "cell_type": "code",
   "execution_count": 3,
   "id": "9a3f65b4",
   "metadata": {},
   "outputs": [],
   "source": [
    "def cointoss():\n",
    "    #Returns either 'H' or 'T' to simulate a coin-toss\n",
    "    flip = random.randint(0, 1)  #chooses a random integer between 0 and 1 \n",
    "    if flip == 0:\n",
    "        return 'H'\n",
    "    else:\n",
    "        return 'T'\n",
    "\n",
    "def toss_coin_many_times(n_toss):\n",
    "    \"\"\"\n",
    "    Toss a coin as many times as you want and see whether Python is comparable\n",
    "    with Julia in terms of speed\n",
    "    \"\"\"\n",
    "\n",
    "    head_count = 0\n",
    "    tail_count = 0\n",
    "    for n in range(n_toss):\n",
    "        outcome = cointoss()\n",
    "        if outcome == 'H':\n",
    "            head_count += 1\n",
    "        elif outcome == 'T':\n",
    "            tail_count += 1\n",
    "\n",
    "    print('{:s}{:d}'.format('Number of head is ', head_count))\n",
    "    print('{:s}{:d}'.format('Number of tail is ', tail_count))\n",
    "    print('{:s}{:f}'.format('Ratio between head and tail is', head_count / tail_count))\n"
   ]
  },
  {
   "cell_type": "code",
   "execution_count": 4,
   "id": "14f24e32",
   "metadata": {},
   "outputs": [
    {
     "name": "stdout",
     "output_type": "stream",
     "text": [
      "H\n",
      "T\n",
      "H\n",
      "T\n",
      "H\n",
      "T\n"
     ]
    }
   ],
   "source": [
    "for ii in range(6):\n",
    "    print(cointoss())"
   ]
  },
  {
   "cell_type": "markdown",
   "id": "15300839",
   "metadata": {},
   "source": [
    "Now let's think about how to combine events like this.  Suppose we want to know how likely it is that we get three tails in a row.  The 'brute-force' way to do this is to just write out all the possibilities and count, so here they are:\n",
    "\n",
    "1. HHH\n",
    "2. HHT\n",
    "3. HTH\n",
    "4. THH\n",
    "5. TTH\n",
    "6. THT\n",
    "7. HTT\n",
    "8. TTT\n",
    "\n",
    "So there are 8 possible outcomes from three coin-flips and only one is all tails so that means the probability of all tails is 1/8, or:\n",
    "$$\n",
    "P(3T) = 1/8\n",
    "$$\n",
    "More generally, we can estimate the number of possibilities by taking the number of outcomes (here 2) and raising it to the power of the number of tests (here 3), so \n",
    "$$\n",
    "n=2^3=8\n",
    "$$\n",
    "\n",
    "We also have a more general way of finding the number of combinations that have a particular outcome.  So the number of combinations of $r$ outcomes in $n$ experiments is:\n",
    "$$\n",
    "{n \\choose r} = \\frac{n!}{r!(n-r)!}\n",
    "$$\n",
    "\n"
   ]
  },
  {
   "cell_type": "markdown",
   "id": "9733ba1a",
   "metadata": {},
   "source": [
    "In our case, we asked for the probability of 3 tails in 3 tosses which would mean that we need to know the number of cominations that result in 3 tails so $r=3$ and $n=3$ and thus \n",
    "$$\n",
    "{3 \\choose 3} = \\frac{3!}{3!0!} = 1\n",
    "$$\n",
    "\n",
    "So now we can compute the probability of 3 tails in 3 tosses via:\n",
    "$$\n",
    "P(3T)=\\frac{\\frac{n!}{r!(n-r)!}}{2^n}=\\frac{3\\choose 3}{2^3}=\\frac{1}{8}\n",
    "$$\n",
    "\n"
   ]
  },
  {
   "cell_type": "markdown",
   "id": "800779e9",
   "metadata": {},
   "source": [
    "Verify the following facts:\n",
    "1. That you will get 50% heads and 50% tails if you toss enough coins.\n",
    "2. Make a bar graph of the number of heads that you get in repeats of 3 flips of the coin.  Does it correspond with the distribution above?"
   ]
  },
  {
   "cell_type": "code",
   "execution_count": 5,
   "id": "f3a4fd45",
   "metadata": {},
   "outputs": [
    {
     "name": "stdout",
     "output_type": "stream",
     "text": [
      "Number of head is 5\n",
      "Number of tail is 5\n",
      "Ratio between head and tail is1.000000\n",
      "Number of head is 50\n",
      "Number of tail is 50\n",
      "Ratio between head and tail is1.000000\n",
      "Number of head is 485\n",
      "Number of tail is 515\n",
      "Ratio between head and tail is0.941748\n",
      "Number of head is 4965\n",
      "Number of tail is 5035\n",
      "Ratio between head and tail is0.986097\n",
      "Number of head is 50072\n",
      "Number of tail is 49928\n",
      "Ratio between head and tail is1.002884\n",
      "Number of head is 499840\n",
      "Number of tail is 500160\n",
      "Ratio between head and tail is0.999360\n",
      "Number of head is 4998338\n",
      "Number of tail is 5001662\n",
      "Ratio between head and tail is0.999335\n",
      "Number of head is 50003721\n",
      "Number of tail is 49996279\n",
      "Ratio between head and tail is1.000149\n"
     ]
    }
   ],
   "source": [
    "n_toss_list = [1e1, 1e2, 1e3, 1e4, 1e5, 1e6, 1e7, 1e8]\n",
    "for n_toss in n_toss_list:\n",
    "    toss_coin_many_times(int(n_toss))"
   ]
  },
  {
   "cell_type": "markdown",
   "id": "ef928cad",
   "metadata": {},
   "source": [
    "### Now that you have things working for these first two examples, re-run the notebook a few times and comment on how things change and what this means. "
   ]
  },
  {
   "cell_type": "markdown",
   "id": "cd5a6be4",
   "metadata": {},
   "source": [
    "## Other important properties of probabilities\n",
    "\n",
    "1. All probability distributions add up to 1.  So if the probability of some event is $p$, the probability that the event does not happen is $1-p$, which includes all outcomes other than the event in question.  More generally, the probability of any number of _mutually exclusive_ events can be added to find the probability of one or the other occurring.  So if I roll a dice, the probability of rolling a 3 is $1/6$, the probability of rolling either a 3 or a 4 is $1/6+1/6=1/3$.\n",
    "2. The probability of independent events are multiplied.  So the probability that you roll two tails in a row is $\\frac{1}{2}^2=\\frac{1}{4}$, more generally, the probability of $n$ successive events with probability $p$ is \n",
    "$$ P = (1-p)^n$$\n",
    "3. The probablity that you will have $n-r$ occurances of the event followed by $r$ occurances of the non-event (e.g. $n-r$ heads followed by $r$ tails is:\n",
    "$$ P  = (1-p)^{n-r} p^r$$\n",
    "4. If these events may occur in any order, then there are ${n \\choose r}$ ways for this to occur, which gives us:\n",
    "$$ P = {n \\choose r} (1-p)^{n-r} p^r.$$\n",
    "For our coin-flip experiment, $p=1/2$ so this is:\n",
    "$$P = { n\\choose r} \\left(\\frac{1}{2} \\right)^n,$$\n",
    "which is our formula above."
   ]
  },
  {
   "attachments": {},
   "cell_type": "markdown",
   "id": "6e9f3c5c",
   "metadata": {},
   "source": [
    "# Bayes Theorem\n",
    "\n",
    "Bayes' theorem tells us how to understand the probability of a given event, given that other events have occurred.  Our book gives a very nice derivation of Bayes' theorem that we will go through here. To begin, we define _conditional probability_.  This is the probability of one thing happening given that another thing has already occurred.  This is a really common circumstance in geophysics because our data do not make direct observations, we try to infer results based no data that are indirect.  So as in the example in the book, we might ask:\n",
    "1. What is the probability of an eruption, given our observed seismicity near a volcano? \n",
    "2. What is the probability that there is mineralization, given our observed magnetic data?\n",
    "3. What is the probability of a particular mineral being present given the hardness of our sample?\n",
    "\n",
    "If two events are related, then the joint probability of the two events is not just their product, in other words: \n",
    "$$\n",
    "P(A,B)=P(A and B) \\neq P(A) P(B)\n",
    "$$\n",
    "The _conditional probability_ is the probability of a second event, given the first\n",
    "$$\n",
    "P(A|B) = P(A given B) =P(A \\text{ conditioned on } B)\n",
    "$$\n",
    "Note that the _conditional probability_ can be either larger or smaller than the independent probability. For example\n",
    "1. The probability of a volcanic eruption, given that we have observed tremor, is larger than the probability of an eruption on its own, i.e. \n",
    "$$\n",
    "P(eruption|tremor) > P(eruption)\n",
    "$$\n",
    "2. The probability of observing a fossil is much smaller if you're in igneous rocks than if you're in 'general' rocks:\n",
    "$$\n",
    "P(fossil|igneous) < P(fossil)\n",
    "$$\n",
    "\n",
    "This leads us to Bayes' theorem: \n",
    "$$\n",
    "P(A,B) =p(B|A) p(A)\n",
    "$$\n",
    "which says that the probability of both $A$ and $B$ occurring is equal to the product of the (independent) probabilities of $A$ occurring and of $B$ occurring given that $A$ has already occurred.  Because they are independent we multiply them together to find the joint probability.  Now there is nothing special in the choice of $A$ and $B$ and so we have that:\n",
    "$$\n",
    "P(A,B) = p(B|A)p(A) = p(A|B)p(B)\n",
    "$$\n",
    "so that\n",
    "$$\n",
    "P(A|B) = \\frac{p(B|A)p(A)}{p(B)},\n",
    "$$\n",
    "which is Bayes' theorem.\n",
    "\n",
    "Another good explanation of Bayes' theorem is here: https://towardsdatascience.com/bayes-rule-with-a-simple-and-practical-example-2bce3d0f4ad0 which I took this graphic from.\n",
    "![image info](Bayes1.png)"
   ]
  },
  {
   "cell_type": "markdown",
   "id": "81c2b381",
   "metadata": {},
   "source": [
    "## Exercise with Bayes\n",
    "\n",
    "Following the blog post above, suppose that you want to compute the probability of drilling into a mineralized zone.  So you want to determine:\n",
    "$$\n",
    "P(A|B) = P(\\text{mineralization given geophysical data anomaly}) = P(min|anom)\n",
    "$$\n",
    "Now assume that we know:\n",
    "1. The probability of mineralization, $P(min)$, from background geological analysis, of 25%, (this is the _prevelance_ of mineralization in our region)\n",
    "2. Suppose that if there is mineralization, then you will observe an anomaly 95% of the time (this is the _sensitivity_ of our method), this is $P(anom|min)$\n",
    "3. Suppose that if there is no mineralization, then you will not observe an anomaly say 80% of the time (this is the _specificity_ of the method this is $P(! anom| ! min)$\n",
    "4. If we have $P(min)$ we have $P(!min)=1-P(min)$ because there either is or is not mineralization in the area.\n",
    "\n",
    "1. First, write out Bayes' theorem for our problem.\n",
    "2. How will you compute $P(anom)$?  Write this up in equations.\n",
    "3. Now implement the Bayes' theorem calculation, so compute the probability of having mineralization if there is an anomaly.\n"
   ]
  },
  {
   "cell_type": "markdown",
   "id": "7e26d0db",
   "metadata": {},
   "source": [
    "Now we're going to look at the dependence of the result on various factors.  To do that, first let's make a function to do our calculation, following the template below."
   ]
  },
  {
   "cell_type": "code",
   "execution_count": 9,
   "id": "8a25efe3",
   "metadata": {},
   "outputs": [],
   "source": [
    "def MyBayes(Prev,Sen,Spe):\n",
    "    #Compute, using Bayes' theorem, the probability of an event given:\n",
    "    #the sensitivity and specificity of the method and the prevelance of the property\n",
    "    #Inputs: \n",
    "    #Prev: the probability of the event or the prevelance of the event\n",
    "    #Sen: the sensitivity of the test\n",
    "    #Spe: the specificity of the test\n",
    "    \n",
    "    #outputs: the probability of the specific instance being correct\n",
    "    \n",
    "    \n",
    "    return P_out"
   ]
  },
  {
   "cell_type": "markdown",
   "id": "89b94865",
   "metadata": {},
   "source": [
    "## Look at the dependence on the Sensitivity, Specificity and Prevelance\n",
    "\n",
    "I will leave this open-ended look into it however you think would be informative, and be prepared to share what you find with the group on Friday!  Think about what this means in an Earth science context."
   ]
  },
  {
   "cell_type": "markdown",
   "id": "cd08e262",
   "metadata": {},
   "source": [
    "### For our last topic on probability, let's look at continuous random variables\n",
    "\n",
    "We can start by simply taking our coin-flip example and running it many many times"
   ]
  },
  {
   "cell_type": "code",
   "execution_count": 13,
   "id": "ec5c9bf3",
   "metadata": {},
   "outputs": [
    {
     "data": {
      "text/plain": [
       "Text(0, 0.5, 'probability')"
      ]
     },
     "execution_count": 13,
     "metadata": {},
     "output_type": "execute_result"
    },
    {
     "data": {
      "image/png": "[encoded data removed]",
      "text/plain": [
       "<Figure size 432x288 with 1 Axes>"
      ]
     },
     "metadata": {
      "needs_background": "light"
     },
     "output_type": "display_data"
    }
   ],
   "source": [
    "reslist=[]\n",
    "ntrials=1000\n",
    "nflips=200\n",
    "for ii in range(ntrials):\n",
    "    nh,nt,resstring=cointrials(nflips)\n",
    "    reslist.append(nh)\n",
    "\n",
    "x=np.arange(nflips+1)\n",
    "heights=np.zeros_like(x)\n",
    "for ii in range(nflips):\n",
    "    heights[ii]=reslist.count(ii)\n",
    "\n",
    "plt.bar(x,heights/ntrials)\n",
    "plt.xlabel('number of heads')\n",
    "plt.ylabel('probability')"
   ]
  },
  {
   "cell_type": "markdown",
   "id": "eb7ce7e2",
   "metadata": {},
   "source": [
    "Notice that the bars get quite small because we have so many possible outcomes and that there is a central value, (at about 1/2 the number of flips as expected), with tails surrounding it.  This is the _normal distribution_ and it is the result essentially taking the binomial distribution we looked at before and letting our variable sampling go to zero (i.e. we make our variable into a continuous variable).\n",
    "\n",
    "Notice also that the actual probability of any one occurance is now very small (only about 7%)!  This is logical because there are so many trials that are close to the mean, but not precisely equal to it.  \n",
    "\n",
    "#### Calculate the chance of getting within say 10 of 1/2 our number of flips."
   ]
  },
  {
   "cell_type": "markdown",
   "id": "736465bc",
   "metadata": {},
   "source": [
    "### A last few notes:\n",
    "\n",
    "1. For most of this to apply, we have to assume that the samples are representative of a random distribution.  This is often not the case (e.g. if you analyze core), but often a reasonable approximation.\n",
    "2. Particularly important for machine learning is to make sure that the samples that you use for training are representative of the underlying distribution that you want to sample.  This is often not trivial.\n",
    "3. Be on the lookout for hidden correlations between your variables.  This can confound your probability/statistics and make your results look better or worse than they really are."
   ]
  },
  {
   "cell_type": "markdown",
   "id": "bd83f505",
   "metadata": {},
   "source": [
    "### Challenge question:\n",
    "1. Find a paper that uses the material we have worked on this week.\n",
    "2. Apply this to a common geoscience problem.  Aim for something that is plausible, truly uses this material, and somewhat outside your usual realm of problems."
   ]
  },
  {
   "cell_type": "code",
   "execution_count": null,
   "id": "c018265f",
   "metadata": {},
   "outputs": [],
   "source": []
  }
 ],
 "metadata": {
  "kernelspec": {
   "display_name": "2023.0.0",
   "language": "python",
   "name": "python3"
  },
  "language_info": {
   "codemirror_mode": {
    "name": "ipython",
    "version": 3
   },
   "file_extension": ".py",
   "mimetype": "text/x-python",
   "name": "python",
   "nbconvert_exporter": "python",
   "pygments_lexer": "ipython3",
   "version": "3.9.15"
  },
  "vscode": {
   "interpreter": {
    "hash": "f4d4ee7d5932521f660d0ed3a787a8eb0d9a8243c2bdc8de27f34ca6611687de"
   }
  }
 },
 "nbformat": 4,
 "nbformat_minor": 5
}
